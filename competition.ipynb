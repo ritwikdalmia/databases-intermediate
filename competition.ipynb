{
  "cells": [
    {
      "metadata": {
        "_uuid": "8f2839f25d086af736a60e9eeb907d3b93b6e0e5",
        "_cell_guid": "b1076dfc-b9ad-4769-8c92-a6c4dae69d19",
        "trusted": true
      },
      "cell_type": "code",
      "source": "import numpy as np\nimport pandas as pd\nimport matplotlib.pyplot as plt\nimport seaborn as sns\nfrom sklearn.preprocessing import LabelEncoder,MinMaxScaler, StandardScaler\nfrom sklearn.model_selection import train_test_split, ParameterGrid\nfrom sklearn.metrics import accuracy_score, confusion_matrix, mean_squared_error, log_loss\nimport operator\nimport json\nfrom IPython import display\nimport os\nimport warnings\n\nnp.random.seed(0)\nwarnings.filterwarnings(\"ignore\")\nTHRESHOLD = 4",
      "execution_count": null,
      "outputs": []
    },
    {
      "metadata": {
        "_uuid": "6d28fbba9a71630b669ea6d0a4623d82cb32a0fd"
      },
      "cell_type": "markdown",
      "source": "**Task: To predict whether the user likes the mobile phone or not.** \nAssumption: If the average rating of mobile >= threshold, then the user likes it, otherwise no\n\n\n\n\n===============================================================================\n\n\nMissing values:\n'Also Known As 'Bezel-less display'(266),'Browser'(449),'Build Material'(338),'Co-Processor'(451),'Display Colour'(457),'Mobile High-Definition Link(MHL)'(472),'Music'(447) 'Email','Fingerprint Sensor Position'(174),'Games'(446),'HDMI'(454),'Heart Rate Monitor'(467),'IRIS Scanner'(467), 'Optical Image Stabilisation'(219),'Other Facilities'(444),'Phone Book'(444),'Physical Aperture'(87),'Quick Charging'(122),'Ring Tone'(444),'Ruggedness'(430),SAR Value(315),'SIM 3'(472),'SMS'(470)', 'Screen Protection'(229),'Screen to Body Ratio (claimed by the brand)'(428),'Sensor'(242),'Software Based Aperture'(473), 'Special Features'(459),'Standby time'(334),'Stylus'(473),'TalkTime'(259), 'USB Type-C'(374),'Video Player'(456), 'Video Recording Features'(458),'Waterproof'(398),'Wireless Charging','USB OTG Support'(159)'\n\nVery low variance:\n'Architecture'(most entries are 64-bit),'Audio Jack','GPS','Loudspeaker','Network','Network Support','Other Sensors'(28),'SIM Size', 'VoLTE'\n\nMultivalued:\n'Colours','Custom UI','Model'(1),'Other Sensors','Launch Date'\n\nNot important:\n'Bluetooth', 'Settings'(75),'Wi-Fi','Wi-Fi Features'\n\nDoubtful:\n'Aspect Ratio','Autofocus','Brand','Camera Features','Fingerprint Sensor'(very few entries are missing), 'Fingerprint Sensor Position', 'Graphics'(multivalued),'Image resolution'(multivalued),'SIM Size','Sim Slot(s)', 'User Available Storage', 'SIM 1', 'SIM 2','Shooting Modes', 'Touch Screen'(24), 'USB Connectivity'\n\nTo check:\n'Display Type','Expandable Memory','FM Radio'\n\nHigh Correlation with other features\n'SIM Slot(s)' high correlation with SIM1 'Weight' has high high correlation with capacity , screen-to-body ratio 'Height' - screen size is also there\n\nGiven a mobile, we can't directly get these features\n'Rating Count', 'Review Count'\n\nKeeping:\n'Capacity','Flash'(17),'Height'(22),'Internal Memory'(20, require cleaning),'Operating System'(25, require cleaning), 'Pixel Density'(1, clean it),'Processor'(22, clean it), 'RAM'(17, clean), 'Rating','Resolution'(cleaning), 'Screen Resolution','Screen Size', 'Thickness'(22), 'Type','User Replaceable','Weight'(cleaning),'Sim Size'(), 'Other Sensors'(28), 'Screen to Body Ratio (calculated)','Width',"
    },
    {
      "metadata": {
        "_cell_guid": "79c7e3d0-c299-4dcb-8224-4455121ee9b0",
        "_uuid": "d629ff2d2480ee46fbb7e2d37f6b5fab8052498a",
        "trusted": true
      },
      "cell_type": "code",
      "source": "train = pd.read_csv(\"../input/train.csv\") \ntest = pd.read_csv(\"../input/test.csv\")\n\n# **check the number of features and data points in train**\nprint(\"Number of data points in train: %d\" % train.shape[0])\nprint(\"Number of features in train: %d\" % train.shape[1])\n\n# **check the number of features and data points in test**\nprint(\"Number of data points in test: %d\" % test.shape[0])\nprint(\"Number of features in test: %d\" % test.shape[1])",
      "execution_count": null,
      "outputs": []
    },
    {
      "metadata": {
        "trusted": true,
        "_uuid": "e4430b9a93cbb253fbe359d8da250fe972e1680c"
      },
      "cell_type": "code",
      "source": "def data_clean(data):\n    \n    # **Let's first remove all missing value features**\n    columns_to_remove = ['Also Known As','Bezel-less display'\n                         'Browser','Build Material','Co-Processor','Browser'\n                         'Display Colour','Mobile High-Definition Link(MHL)',\n                         'Music', 'Email','Fingerprint Sensor Position',\n                         'Games','HDMI','Heart Rate Monitor','IRIS Scanner', \n                         'Optical Image Stabilisation','Other Facilities',\n                         'Phone Book','Physical Aperture','Quick Charging',\n                         'Ring Tone','Ruggedness','SAR Value','SIM 3','SMS',\n                         'Screen Protection','Screen to Body Ratio (claimed by the brand)',\n                         'Sensor','Software Based Aperture', 'Special Features',\n                         'Standby time','Stylus','TalkTime', 'USB Type-C',\n                         'Video Player', 'Video Recording Features','Waterproof',\n                         'Wireless Charging','USB OTG Support']\n\n    columns_to_retain = list(set(data.columns)-set(columns_to_remove))\n    data = data[columns_to_retain]\n\n                 #**Features having very low variance**\n\n    columns_to_remove = ['Architecture','Audio Jack','GPS','Loudspeaker','Network','Network Support','VoLTE']\n    columns_to_retain = list(set(data.columns)-set(columns_to_remove))\n    data = data[columns_to_retain]\n\n                        # **Multivalued:**\n    columns_to_remove = ['Architecture','Launch Date','Audio Jack','GPS','Loudspeaker','Network','Network Support','VoLTE', 'Custom UI']\n    columns_to_retain = list(set(data.columns)-set(columns_to_remove))\n    data = data[columns_to_retain]\n\n                        # **Not much important**\n    columns_to_remove = ['Bluetooth', 'Settings','Wi-Fi','Wi-Fi Features']\n    columns_to_retain = list(set(data.columns)-set(columns_to_remove))\n    data = data[columns_to_retain]\n    \n    return data",
      "execution_count": null,
      "outputs": []
    },
    {
      "metadata": {
        "_uuid": "c23379bf049bf921fddf7a65bff3f1c40e94585d"
      },
      "cell_type": "markdown",
      "source": "***Removing features**\n"
    },
    {
      "metadata": {
        "trusted": true,
        "_uuid": "227c7ad68f630d5c3d394b26e91cb467e8f9c41f"
      },
      "cell_type": "code",
      "source": "train = data_clean(train)\ntest = data_clean(test)",
      "execution_count": null,
      "outputs": []
    },
    {
      "metadata": {
        "_uuid": "c220867357c0759903057e7b3a4a792672f2d68c"
      },
      "cell_type": "markdown",
      "source": "removing all those data points in which more than 15 features are missing\n\n"
    },
    {
      "metadata": {
        "trusted": true,
        "_uuid": "da07c0d83b569f1d27d0194954ed725be8d18176"
      },
      "cell_type": "code",
      "source": "train = train[(train.isnull().sum(axis=1) <= 15)]\n#test = test[(test.isnull().sum(axis=1) <= 15)]",
      "execution_count": null,
      "outputs": []
    },
    {
      "metadata": {
        "trusted": true,
        "_uuid": "65cabbe05929eee4dc9d6ccb25759f0e5fc94346"
      },
      "cell_type": "code",
      "source": "# check the number of features and data points remaining  in train\nprint(\"Number of data points in train: %d\" % train.shape[0])\nprint(\"Number of features in train: %d\" % train.shape[1])\n\n# check the number of features and data points remaining in test\nprint(\"Number of data points in test: %d\" % test.shape[0])\nprint(\"Number of features in test: %d\" % test.shape[1])",
      "execution_count": null,
      "outputs": []
    },
    {
      "metadata": {
        "_uuid": "0eb04d3b07483e2c49291d62dd4835bb044a114f"
      },
      "cell_type": "markdown",
      "source": "***Filling Missing values***"
    },
    {
      "metadata": {
        "trusted": true,
        "_uuid": "d37be23472da4f2e2beede747d5b05fb1190b3ed"
      },
      "cell_type": "code",
      "source": " def for_integer(test):\n    try:\n        test = test.strip()\n        return int(test.split(' ')[0])\n    except IOError:\n           pass\n    except ValueError:\n        pass\n    except:\n        pass\n\ndef for_string(test):\n    try:\n        test = test.strip()\n        return (test.split(' ')[0])\n    except IOError:\n        pass\n    except ValueError:\n        pass\n    except:\n        pass\n\ndef for_float(test):\n    try:\n        test = test.strip()\n        return float(test.split(' ')[0])\n    except IOError:\n        pass\n    except ValueError:\n        pass\n    except:\n        pass\ndef find_freq(test):\n    try:\n        test = test.strip()\n        test = test.split(' ')\n        if test[2][0] == '(':\n            return float(test[2][1:])\n        return float(test[2])\n    except IOError:\n        pass\n    except ValueError:\n        pass\n    except:\n        pass\n\n    \ndef for_Internal_Memory(test):\n    try:\n        test = test.strip()\n        test = test.split(' ')\n        if test[1] == 'GB':\n            return int(test[0])\n        if test[1] == 'MB':\n#             print(\"here\")\n            return (int(test[0]) * 0.001)\n    except IOError:\n           pass\n    except ValueError:\n        pass\n    except:\n        pass\n    \ndef find_freq(test):\n    try:\n        test = test.strip()\n        test = test.split(' ')\n        if test[2][0] == '(':\n            return float(test[2][1:])\n        return float(test[2])\n    except IOError:\n        pass\n    except ValueError:\n        pass\n    except:\n        pass",
      "execution_count": null,
      "outputs": []
    },
    {
      "metadata": {
        "trusted": true,
        "_uuid": "43946651a5a431fe99bc305e98c38e1a13f539cf"
      },
      "cell_type": "code",
      "source": "def data_clean_2(x):\n    data = x.copy()\n    \n    data['Capacity'] = data['Capacity'].apply(for_integer)\n\n    data['Height'] = data['Height'].apply(for_float)\n    data['Height'] = data['Height'].fillna(data['Height'].mean())\n\n    data['Internal Memory'] = data['Internal Memory'].apply(for_Internal_Memory)\n\n    data['Pixel Density'] = data['Pixel Density'].apply(for_integer)\n\n    data['Internal Memory'] = data['Internal Memory'].fillna(data['Internal Memory'].median())\n    data['Internal Memory'] = data['Internal Memory'].astype(int)\n\n    data['RAM'] = data['RAM'].apply(for_integer)\n    data['RAM'] = data['RAM'].fillna(data['RAM'].median())\n    data['RAM'] = data['RAM'].astype(int)\n\n    data['Resolution'] = data['Resolution'].apply(for_integer)\n    data['Resolution'] = data['Resolution'].fillna(data['Resolution'].median())\n    data['Resolution'] = data['Resolution'].astype(int)\n\n    data['Screen Size'] = data['Screen Size'].apply(for_float)\n\n    data['Thickness'] = data['Thickness'].apply(for_float)\n    data['Thickness'] = data['Thickness'].fillna(data['Thickness'].mean())\n    data['Thickness'] = data['Thickness'].round(2)\n\n    data['Type'] = data['Type'].fillna('Li-Polymer')\n\n    data['Screen to Body Ratio (calculated)'] = data['Screen to Body Ratio (calculated)'].apply(for_float)\n    data['Screen to Body Ratio (calculated)'] = data['Screen to Body Ratio (calculated)'].fillna(data['Screen to Body Ratio (calculated)'].mean())\n    data['Screen to Body Ratio (calculated)'] = data['Screen to Body Ratio (calculated)'].round(2)\n\n    data['Width'] = data['Width'].apply(for_float)\n    data['Width'] = data['Width'].fillna(data['Width'].mean())\n    data['Width'] = data['Width'].round(2)\n\n    data['Flash'][data['Flash'].isna() == True] = \"Other\"\n\n    data['User Replaceable'][data['User Replaceable'].isna() == True] = \"Other\"\n\n    data['Num_cores'] = data['Processor'].apply(for_string)\n    data['Num_cores'][data['Num_cores'].isna() == True] = \"Other\"\n\n\n    data['Processor_frequency'] = data['Processor'].apply(find_freq)\n    #because there is one entry with 208MHz values, to convert it to GHz\n    data['Processor_frequency'][data['Processor_frequency'] > 200] = 0.208\n    data['Processor_frequency'] = data['Processor_frequency'].fillna(data['Processor_frequency'].mean())\n    data['Processor_frequency'] = data['Processor_frequency'].round(2)\n\n    data['Camera Features'][data['Camera Features'].isna() == True] = \"Other\"\n\n    #simplifyig Operating System to os_name for simplicity\n    data['os_name'] = data['Operating System'].apply(for_string)\n    data['os_name'][data['os_name'].isna() == True] = \"Other\"\n\n    data['Sim1'] = data['SIM 1'].apply(for_string)\n\n    data['SIM Size'][data['SIM Size'].isna() == True] = \"Other\"\n\n    data['Image Resolution'][data['Image Resolution'].isna() == True] = \"Other\"\n\n    data['Fingerprint Sensor'][data['Fingerprint Sensor'].isna() == True] = \"Other\"\n\n    data['Expandable Memory'][data['Expandable Memory'].isna() == True] = \"No\"\n\n    data['Weight'] = data['Weight'].apply(for_integer)\n    data['Weight'] = data['Weight'].fillna(data['Weight'].mean())\n    data['Weight'] = data['Weight'].astype(int)\n\n    data['SIM 2'] = data['SIM 2'].apply(for_string)\n    data['SIM 2'][data['SIM 2'].isna() == True] = \"Other\"\n    \n    return data",
      "execution_count": null,
      "outputs": []
    },
    {
      "metadata": {
        "trusted": true,
        "_uuid": "da5db8615d93e211b16cdf8d4f671a10cc7f3274"
      },
      "cell_type": "code",
      "source": "train = data_clean_2(train)\ntest = data_clean_2(test)\n\n# **check the number of features and data points remaining in train**\nprint(\"Number of data points in train: %d\" % train.shape[0])\nprint(\"Number of features in train: %d\" % train.shape[1])\n\n# **check the number of features and data points remaining in test**\nprint(\"Number of data points in test: %d\" % test.shape[0])\nprint(\"Number of features in test: %d\" % test.shape[1])",
      "execution_count": null,
      "outputs": []
    },
    {
      "metadata": {
        "_uuid": "d152ea88c36398cc3186757a2d0f4543d5509fd3"
      },
      "cell_type": "markdown",
      "source": "****Not very important feature****"
    },
    {
      "metadata": {
        "trusted": true,
        "_uuid": "15d310870f7f15c63e10165734c6d74dc2504364"
      },
      "cell_type": "code",
      "source": "def data_clean_3(x):\n    \n    data = x.copy()\n\n    columns_to_remove = ['User Available Storage','SIM Size','Chipset','Processor','Autofocus','Aspect Ratio','Touch Screen',\n                        'Bezel-less display','Operating System','SIM 1','USB Connectivity','Other Sensors','Graphics','FM Radio',\n                        'NFC','Shooting Modes','Display Colour' ]\n\n    columns_to_retain = list(set(data.columns)-set(columns_to_remove))\n    data = data[columns_to_retain]\n\n\n    columns_to_remove = [ 'Screen Resolution','Camera Features',\n                        'Thickness', 'Display Type']\n\n    columns_to_retain = list(set(data.columns)-set(columns_to_remove))\n    data = data[columns_to_retain]\n\n\n    columns_to_remove = ['Fingerprint Sensor', 'Flash', 'Rating Count', 'Review Count','Image Resolution','Type','Expandable Memory',\\\n                        'Colours','Model']\n    columns_to_retain = list(set(data.columns)-set(columns_to_remove))\n    data = data[columns_to_retain]\n\n    return data\n",
      "execution_count": null,
      "outputs": []
    },
    {
      "metadata": {
        "trusted": true,
        "_uuid": "62a9186c9b0f958d783a6f4af682f1b02c52b0d6"
      },
      "cell_type": "code",
      "source": "train = data_clean_3(train)\ntest = data_clean_3(test)\n\n# check the number of features and data points remaining  in train\nprint(\"Number of data points in train: %d\" % train.shape[0])\nprint(\"Number of features in train: %d\" % train.shape[1])\n\n# check the number of features and data points remaingin test\nprint(\"Number of data points in test: %d\" % test.shape[0])\nprint(\"Number of features in test: %d\" % test.shape[1])",
      "execution_count": null,
      "outputs": []
    },
    {
      "metadata": {
        "trusted": true,
        "_uuid": "1603dafc2278e389e9309ad2ce1db8cf6401e265"
      },
      "cell_type": "code",
      "source": "# **one hot encoding**\n\ntrain_ids = train['PhoneId']\ntest_ids = test['PhoneId']\n\ncols = list(test.columns)\ncols.remove('PhoneId')\ncols.insert(0, 'PhoneId')\n\ncombined = pd.concat([train.drop('Rating', axis=1)[cols], test[cols]])\nprint(combined.shape)\nprint(combined.columns)\n\ncombined = pd.get_dummies(combined)\nprint(combined.shape)\nprint(combined.columns)\n\ntrain_new = combined[combined['PhoneId'].isin(train_ids)]\ntest_new = combined[combined['PhoneId'].isin(test_ids)]",
      "execution_count": null,
      "outputs": []
    },
    {
      "metadata": {
        "trusted": true,
        "_uuid": "00b62c4ac590c4a6199255c8d8d19dd52ab989ed"
      },
      "cell_type": "code",
      "source": "train_new = train_new.merge(train[['PhoneId', 'Rating']], on='PhoneId')",
      "execution_count": null,
      "outputs": []
    },
    {
      "metadata": {
        "trusted": true,
        "_uuid": "04e7461e1974e527b80041b867023ae43e6a2207"
      },
      "cell_type": "code",
      "source": "# **check the number of features and data points remaining in train**\nprint(\"Number of data points in train: %d\" % train_new.shape[0])\nprint(\"Number of features in train: %d\" % train_new.shape[1])\n\n# **check the number of features and data points remaining in test**\nprint(\"Number of data points in test: %d\" % test_new.shape[0])\nprint(\"Number of features in test: %d\" % test_new.shape[1])",
      "execution_count": null,
      "outputs": []
    },
    {
      "metadata": {
        "_uuid": "c82d2eec4ff6d6724d7f1981c10ad4cef759f5b3"
      },
      "cell_type": "markdown",
      "source": "**Check the shape of the test and train data**"
    },
    {
      "metadata": {
        "trusted": true,
        "_uuid": "2853f4d422d83035b13a40326bd24ccd6cee421c",
        "_kg_hide-output": true
      },
      "cell_type": "code",
      "source": "# **Check the shape of the training data and testing data**\ntrain_new.shape, test_new.shape",
      "execution_count": null,
      "outputs": []
    },
    {
      "metadata": {
        "_uuid": "ce5bbafa136997dc3d2e252a34f81431e220fe2b"
      },
      "cell_type": "markdown",
      "source": "***Perform the head operation to get a feel for the test & train data and make basic observations\n***"
    },
    {
      "metadata": {
        "trusted": true,
        "_uuid": "f6098369cdcde28635bcc580d710fa9d043d3c2b",
        "_kg_hide-output": false,
        "_kg_hide-input": false
      },
      "cell_type": "code",
      "source": "train_new.head()\n# There is a PhoneID column,is an indicator column and does not play any role decision making.\n# We see variables coded as dummy variables which is an important observation and will be \n# used later on in the model",
      "execution_count": null,
      "outputs": []
    },
    {
      "metadata": {
        "trusted": true,
        "_uuid": "d4c2c6d9c8909aa4cd3342231380dced39783aac",
        "_kg_hide-output": true
      },
      "cell_type": "code",
      "source": "test_new.head()\n# There is a PhoneID column,is an indicator column and does not play any role decision making\n# There is no Rating column in test_new since this you will have to predict by building a working model\n# on the train_data",
      "execution_count": null,
      "outputs": []
    },
    {
      "metadata": {
        "_uuid": "0302f8e0fe9d1a9097c280df0502864d5b7446b1"
      },
      "cell_type": "markdown",
      "source": "**Create staging DataFrames**\n"
    },
    {
      "metadata": {
        "trusted": true,
        "_uuid": "88efab51f885b3a501728de02c158ef31fa868d7",
        "_kg_hide-output": true
      },
      "cell_type": "code",
      "source": "# Create X_train_new which will hold all columns except PhoneID and Rating using train_new\n# Create Y_train_new which will only hold the Rating column present in train_new, note that the dataframe maintains integrity of the PhoneID \n# which is very essential\n\n\nX_train_new = train_new.drop(['PhoneId','Rating'],axis=1)\nY_train_new_rating_discrete = train_new['Rating'] \nY_train_new_rating_binary   = train_new['Rating'].map(lambda x: 1 if x >= 4 else 0)\n\nX_test_new = test_new.drop(['PhoneId'],axis=1)",
      "execution_count": null,
      "outputs": []
    },
    {
      "metadata": {
        "_uuid": "50676ca569e1ae126e0704834ff30f8ff5ff9671"
      },
      "cell_type": "markdown",
      "source": "**Perform a decribe function on X_train_new and X_test_new to check std, mean and other parameters which will help you understand the data better in terms of dummy variables, null values, possible outliers etc.**"
    },
    {
      "metadata": {
        "trusted": true,
        "_uuid": "ecedd7b67fa687272dd087a274ada719a3dd078d",
        "_kg_hide-output": true
      },
      "cell_type": "code",
      "source": "X_train_new.describe()",
      "execution_count": null,
      "outputs": []
    },
    {
      "metadata": {
        "trusted": true,
        "_uuid": "0b31fc299ea104cbd3435c955c2014a607f0293e",
        "_kg_hide-output": true
      },
      "cell_type": "code",
      "source": "X_test_new.describe()",
      "execution_count": null,
      "outputs": []
    },
    {
      "metadata": {
        "_uuid": "9ad411f6d330000e63d2f26a834fcc7a74c18c3a"
      },
      "cell_type": "markdown",
      "source": "**Understanding Correlation**\n"
    },
    {
      "metadata": {
        "trusted": true,
        "_uuid": "c6b545909e6325482e7b6337da152cd51c75d4e2",
        "_kg_hide-output": true
      },
      "cell_type": "code",
      "source": "# Checking for correlation only for the first 10 discrete variables\nX_train_corr = X_train_new.iloc[:,[0,1,2,3,4,5,6,7,8,9]]\nX_train_corr.head()",
      "execution_count": null,
      "outputs": []
    },
    {
      "metadata": {
        "trusted": true,
        "_uuid": "1062efff74c06cff051c8399d92d02d0cfd2967e",
        "_kg_hide-output": true
      },
      "cell_type": "code",
      "source": "correlations = X_train_corr.corr().abs().unstack().sort_values(kind=\"quicksort\").reset_index()\ncorrelations = correlations[correlations['level_0'] != correlations['level_1']]\n\ncorrelations.tail(10)\n\n# The tail of the dataframe has the information about highest correlation between features,\n# where as the head has details about features that have least correlation\n\n# Observe that Screen Size and Screen to Body Ratio are highly correlated, We don't know if they are\n# positively or negatively correlated yet. We will find that out visually\n# Similarly Height and Screen Size are correlated.\n\n# Intution tells me that they will be positvely correlated, meaning any increase in Height of the \n# phone will result in an increase of the Screen Size and vice versa. \n\n#A bigger phone screen (Screen Size) means the phone is lenghtier (Height). ",
      "execution_count": null,
      "outputs": []
    },
    {
      "metadata": {
        "_uuid": "3d2877d2f5a0e944bc7e0ef44915fa4d6bb25abe"
      },
      "cell_type": "markdown",
      "source": "**Visual Interpretation of correlation\n**"
    },
    {
      "metadata": {
        "trusted": true,
        "_uuid": "e9e6af44f73f1aa3f2c9792050d55a403ad39461",
        "_kg_hide-output": true
      },
      "cell_type": "code",
      "source": "corr = X_train_new.corr()\nfig = plt.figure()\nfig.set_size_inches(20,20)\nax = fig.add_subplot(111)\ncax = ax.matshow(corr,cmap='coolwarm', vmin=-1, vmax=1)\nfig.colorbar(cax)\nticks = np.arange(0,len(X_train_new.columns),1)\nax.set_xticks(ticks)\nplt.xticks(rotation=90)\nax.set_yticks(ticks)\nax.set_xticklabels(X_train_new.columns)\nax.set_yticklabels(X_train_new.columns)\nplt.show()\n\n# We can clearly see that Screen Size is positively correlated with Height and Screen to body Ratio\n# There are other positively correlated variables too. Another good easy to understand example is \n# Brand_Apple and os_name_iOS.\n\n# Look against the line of 'Brand_Apple' and compare it with all the top columns \n# It's obvious isn't it that an Apple iPhone / product user will have an iOS operating \n# system on his/her device. He/she cannot have an Android on his Apple iPhone. \n# This now introduces to you negative correlation. Notice how Brand_Apple and os_name_Andriod are\n# negatively correlated (dark blue), which means Apple folks cannot have Android OS",
      "execution_count": null,
      "outputs": []
    },
    {
      "metadata": {
        "_uuid": "d1dcba6348b27f95816d9e304754fa9382a1209e"
      },
      "cell_type": "markdown",
      "source": " **plot some interesting graphs**\n"
    },
    {
      "metadata": {
        "trusted": true,
        "scrolled": true,
        "_uuid": "f724efa5acab71bc94d54fd5fe6c07bd9e564961",
        "_kg_hide-output": true
      },
      "cell_type": "code",
      "source": "#Assigning a dataframe to capture visuals on the discrete data, note that how we have two dataframes where the Y_train_new has been desgined to \n#hold discrete value as well as binary value for the ease of interpretation\nX_train_visual_rating_binary = pd.concat([X_train_new,Y_train_new_rating_binary],axis=1)\nX_train_visual_rating_discrete = pd.concat([X_train_new,Y_train_new_rating_discrete],axis=1)",
      "execution_count": null,
      "outputs": []
    },
    {
      "metadata": {
        "_uuid": "2c0ed001e33cab727d8fa543dc4547b47897083e"
      },
      "cell_type": "markdown",
      "source": "**RAM vs Capacity - Box Plot**\n\nRAM vs Capacity - Box Plot\nThe plot is indicating me that phones with high RAM have larger Capacity values ( for the first few bars atleast ) or vice versa, may be the phones > 16GB have good design where capacity is optimized to a lower value but the trend remains the same. But did the users like the phone ?? Note that there is no correlation between RAM and Capacity so they are good variables/features to decide on if the user would have liked the phone or not.\n"
    },
    {
      "metadata": {
        "_kg_hide-output": true,
        "trusted": true,
        "_uuid": "c53f1ba4cb109d59aede0e534692a8da3e58b5da"
      },
      "cell_type": "code",
      "source": "plt.figure(figsize=(14,8))\nsns.barplot(x='RAM',y='Capacity',data=X_train_visual_rating_binary)",
      "execution_count": null,
      "outputs": []
    },
    {
      "metadata": {
        "_uuid": "a619e559452a9a68070273ecd26d75e5be02e612"
      },
      "cell_type": "markdown",
      "source": "**RAM vs Capacity - Scatter Plot**\nI was not able to derive any inference from this plot for the RAM values of 2 GB to 64 GB as data is too much stacked. But it is very evident that folks with 512 units of RAM have disliked the phonE****\n"
    },
    {
      "metadata": {
        "_kg_hide-output": true,
        "trusted": true,
        "_uuid": "fdb17670a505e488e47c2e51806f50b2913b392a"
      },
      "cell_type": "code",
      "source": "plt.figure(figsize=(14,8))\nsns.scatterplot(x='RAM',y='Capacity',hue='Rating',data=X_train_visual_rating_binary)",
      "execution_count": null,
      "outputs": []
    },
    {
      "metadata": {
        "_uuid": "dd5d0c8b7ce8ac042d3e9ef442a1f5df15284a7e"
      },
      "cell_type": "markdown",
      "source": "**Screen Size vs Pixel Density - Box Plot**\nThe plot is indicating me that if Screen Size increases then Pixel Density also seems to be increasing ( atleast for majority of the cases ), but its very hard to draw a trend here. In reality we would not like the phone which has large screen size and low pixel density. "
    },
    {
      "metadata": {
        "_kg_hide-output": true,
        "trusted": true,
        "_uuid": "2636dcffd570fc32e0af72f3bdcf7d402bbcf680"
      },
      "cell_type": "code",
      "source": "plt.figure(figsize=(14,8))\nplt.xticks(rotation='vertical')\nsns.barplot(x='Screen Size',y='Pixel Density',data=X_train_visual_rating_binary)\n",
      "execution_count": null,
      "outputs": []
    },
    {
      "metadata": {
        "_uuid": "16d3764775bffafc498874f7abab280d3e44bef0"
      },
      "cell_type": "markdown",
      "source": "**Resolution vs Pixel Density - Box Plot**\nIn reality high resoultion needs more pixles per square block. But it seems like Resolution 7, 13, 25 have similar Pixel Density. There is no linear trend observed. Correlation seems to be < 0.5"
    },
    {
      "metadata": {
        "_kg_hide-output": true,
        "trusted": true,
        "_uuid": "b154b2c9afa5244c1a0b47c59f7a73e41339c5b4"
      },
      "cell_type": "code",
      "source": "plt.figure(figsize=(14,8))\nplt.xticks(rotation='vertical')\nsns.barplot(x='Resolution',y='Pixel Density',data=X_train_visual_rating_binary)",
      "execution_count": null,
      "outputs": []
    },
    {
      "metadata": {
        "_uuid": "9c6f1640247476aa9330c513091b0fb09ed98063"
      },
      "cell_type": "markdown",
      "source": "Resolution vs Pixel Density - Scatter Plot"
    },
    {
      "metadata": {
        "_kg_hide-output": true,
        "trusted": true,
        "_uuid": "d583da87b161e9f7ecf410e2db36c4b0b8535c83"
      },
      "cell_type": "code",
      "source": "plt.figure(figsize=(14,8))\nsns.scatterplot(x='Resolution',y='Pixel Density',hue='Rating',data=X_train_visual_rating_binary)",
      "execution_count": null,
      "outputs": []
    },
    {
      "metadata": {
        "_uuid": "f9f2d349c8f5ffb977943454b1fcd91d07515522"
      },
      "cell_type": "markdown",
      "source": "**Internal Memory vs Weight - Box Plot**"
    },
    {
      "metadata": {
        "_kg_hide-output": true,
        "trusted": true,
        "_uuid": "7fad8ded2f541bd65b29846afb79b0d4ecb8b9db"
      },
      "cell_type": "code",
      "source": "plt.figure(figsize=(14,8))\nplt.xticks(rotation='vertical')\nsns.barplot(x='Internal Memory',y='Weight',data=X_train_visual_rating_binary)\n",
      "execution_count": null,
      "outputs": []
    },
    {
      "metadata": {
        "_uuid": "d5122385198fedd11229e84ea2212c082c1f2d25"
      },
      "cell_type": "markdown",
      "source": "Capacity vs Weight - Bar Plot"
    },
    {
      "metadata": {
        "_kg_hide-output": true,
        "trusted": true,
        "_uuid": "912eae928a550b05f5eab37ff86d40f38f3fdcb0"
      },
      "cell_type": "code",
      "source": "plt.figure(figsize=(14,8))\nplt.xticks(rotation='vertical')\nsns.barplot(x='Capacity',y='Weight',data=X_train_visual_rating_binary)",
      "execution_count": null,
      "outputs": []
    },
    {
      "metadata": {
        "trusted": true,
        "_uuid": "05d1c5ee27b99dd0fdbc8c6e32445b027da6be65"
      },
      "cell_type": "code",
      "source": "import pandas as pd\n",
      "execution_count": null,
      "outputs": []
    },
    {
      "metadata": {
        "trusted": true,
        "_uuid": "431469695110cca4b6b57f7c113575faf5b59f48",
        "_kg_hide-output": true,
        "_kg_hide-input": false,
        "collapsed": true
      },
      "cell_type": "code",
      "source": "submission = pd.DataFrame({'PhoneId':test_new['PhoneId'], 'Class':[1]*test_new.shape[0]})\nsubmission = submission[['PhoneId', 'Class']]\nsubmission.head()",
      "execution_count": null,
      "outputs": []
    },
    {
      "metadata": {
        "trusted": true,
        "_uuid": "b3488d6b32bf8cf638d44bf88c2f7755ecf00a6d",
        "_kg_hide-output": true
      },
      "cell_type": "code",
      "source": "submission.to_csv(\"submission.csv\", index=False)",
      "execution_count": null,
      "outputs": []
    },
    {
      "metadata": {
        "trusted": true,
        "_uuid": "53cc89b377f55fc527094cc5178f0a15d992361f"
      },
      "cell_type": "code",
      "source": "\"\"\"modelling code mp neuron and preception\"\"\"",
      "execution_count": null,
      "outputs": []
    }
  ],
  "metadata": {
    "kernelspec": {
      "display_name": "Python 3",
      "language": "python",
      "name": "python3"
    },
    "language_info": {
      "name": "python",
      "version": "3.6.6",
      "mimetype": "text/x-python",
      "codemirror_mode": {
        "name": "ipython",
        "version": 3
      },
      "pygments_lexer": "ipython3",
      "nbconvert_exporter": "python",
      "file_extension": ".py"
    }
  },
  "nbformat": 4,
  "nbformat_minor": 1
}